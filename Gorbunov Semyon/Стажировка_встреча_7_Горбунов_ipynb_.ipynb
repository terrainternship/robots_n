{
  "cells": [
    {
      "cell_type": "code",
      "execution_count": null,
      "metadata": {
        "id": "hlHDcO8ih75s"
      },
      "outputs": [],
      "source": [
        "import librosa                            # Параметризация аудио\n",
        "import librosa.display                    # Визуализация аудио\n",
        "import matplotlib.pyplot as plt           # Отрисовка графиков\n",
        "import IPython.display as ipd             # Проигрывание аудио в colab\n",
        "import gdown                              # Загрузка датасетов из облака\n",
        "\n",
        "import numpy as np\n",
        "\n",
        "# Нормирование сигнала\n",
        "from sklearn.preprocessing import minmax_scale, scale\n",
        "\n",
        "%matplotlib inline"
      ]
    },
    {
      "cell_type": "code",
      "execution_count": null,
      "metadata": {
        "colab": {
          "base_uri": "https://localhost:8080/"
        },
        "id": "G_xTVAD-tOM9",
        "outputId": "68fcc03c-8e0f-43d7-8ae7-37fdb0f68f4e"
      },
      "outputs": [
        {
          "name": "stdout",
          "output_type": "stream",
          "text": [
            "Mounted at /content/drive\n"
          ]
        }
      ],
      "source": [
        "# Подключаем гугл диск\n",
        "\n",
        "# data_path = '/content/drive/MyDrive/ai/sounds/Голос_близко/'\n",
        "\n",
        "from google.colab import drive\n",
        "drive.mount('/content/drive')"
      ]
    },
    {
      "cell_type": "code",
      "execution_count": null,
      "metadata": {
        "id": "JK15QHsmO-6R"
      },
      "outputs": [],
      "source": [
        "data_path = '/content/drive/MyDrive/ai/sounds'  # имя папки проекта (ресурсов проекта)\n",
        "audio_path = f'{data_path}/extended_dataset'    # имя папки с аудиозаписями\n",
        "image_path = f'{data_path}/mel_images'          # имя папки с изображениями графического представления мел кепстральных коэффициентов"
      ]
    },
    {
      "cell_type": "code",
      "execution_count": null,
      "metadata": {
        "id": "eZ4zOJgDAPlO"
      },
      "outputs": [],
      "source": [
        "command_list = ['Остановись', 'Передвигайся вперед', 'Закрывай захват']"
      ]
    },
    {
      "cell_type": "code",
      "execution_count": null,
      "metadata": {
        "id": "fpMlsBegaN4W"
      },
      "outputs": [],
      "source": [
        "# Полный список команд\n",
        "\n",
        "command_list_extended = [\n",
        "    'взаимодействуй с объектами',\n",
        "    'осмотри окружение',\n",
        "    'включай автоматический режим движения',\n",
        "    'включай автоматический режим',\n",
        "    'включи авторежим',\n",
        "    'включи свет',\n",
        "    'возвращайся в начальную точку',\n",
        "    'домой',\n",
        "    'выключай автоматический режим движения',\n",
        "    'выключи режим автохода',\n",
        "    'выключай автоматический режим',\n",
        "    'стоп авторежим',\n",
        "    'выключи свет',\n",
        "    'двигайся вперёд',\n",
        "#    'закрывай захват',\n",
        "    'снимай видео',\n",
        "    'измени направление движения',\n",
        "    'измени скорость',\n",
        "    'изменяй шаговую длину',\n",
        "    'опускайся на указанную высоту',\n",
        "    'спускайся',\n",
        "    'опускай руку вниз',\n",
        "    'останавливай запись видео',\n",
        "    'стоп видео',\n",
        "#    'остановись',\n",
        "    'стоп',\n",
        "    'открывай захват',\n",
        "    'открой захват',\n",
        "    'возьми',\n",
        "#    'передвигайся вперёд',\n",
        "    'вперед',\n",
        "    'передвигайся назад',\n",
        "    'иди назад',\n",
        "    'назад',\n",
        "    'перестраивайся в другую конфигурацию',\n",
        "    'поворачивай влево',\n",
        "    'поворачивай вправо',\n",
        "    'сделай громче',\n",
        "    'поднимай руку вверх',\n",
        "    'поднимайся по лестнице',\n",
        "    'сделай звук тише',\n",
        "    'на пути препятствие',\n",
        "    'руки - какие руки',\n",
        "    'спускайся по лестнице',\n",
        "    'бегом',\n",
        "    'иди тише',\n",
        "    'это как'\n",
        "]"
      ]
    },
    {
      "cell_type": "code",
      "execution_count": null,
      "metadata": {
        "id": "wXlfiXgujSGq"
      },
      "outputs": [],
      "source": [
        "command_list_lost = [\n",
        "    'бегом',\n",
        "    'иди тише',\n",
        "    'на пути препятствие',\n",
        "    'это как',\n",
        "    'руки какие руки',\n",
        "    'спускайся по лестнице'\n",
        "]"
      ]
    },
    {
      "cell_type": "code",
      "execution_count": null,
      "metadata": {
        "colab": {
          "base_uri": "https://localhost:8080/"
        },
        "id": "p5atgDVriUXY",
        "outputId": "c9b756a3-f937-420a-8266-b245ad7f51ed"
      },
      "outputs": [
        {
          "data": {
            "text/plain": [
              "44"
            ]
          },
          "execution_count": 3,
          "metadata": {},
          "output_type": "execute_result"
        }
      ],
      "source": [
        "len(command_list_extended)"
      ]
    },
    {
      "cell_type": "markdown",
      "metadata": {
        "id": "ioDzq_Tzt2bj"
      },
      "source": [
        "## Разделение всех файлов, которые содержат в себе вариации команды"
      ]
    },
    {
      "cell_type": "code",
      "execution_count": null,
      "metadata": {
        "id": "xbCIzlL1uD-Z"
      },
      "outputs": [],
      "source": [
        "from pydub import AudioSegment\n",
        "from pydub.silence import split_on_silence\n",
        "\n",
        "first_part_name = '/content/drive/MyDrive/ai/sounds/splited_0/'"
      ]
    },
    {
      "cell_type": "code",
      "execution_count": null,
      "metadata": {
        "id": "D2qZFyM_uKxp"
      },
      "outputs": [],
      "source": [
        "def split_audio(file_name):\n",
        "\n",
        "    audio = AudioSegment.from_file(file_name)\n",
        "\n",
        "    phrases = split_on_silence(audio, min_silence_len=500, silence_thresh=-50)\n",
        "\n",
        "    command_name = file_name[46:-4]\n",
        "\n",
        "    for i, phrase in enumerate(phrases):\n",
        "        phrase.export(f\"{first_part_name}{command_name}_{i}.wav\", format=\"wav\")"
      ]
    },
    {
      "cell_type": "code",
      "execution_count": null,
      "metadata": {
        "id": "3OtVGybYwUHM"
      },
      "outputs": [],
      "source": [
        "for f_name in file_names:\n",
        "\n",
        "    split_audio(f_name)"
      ]
    },
    {
      "cell_type": "markdown",
      "metadata": {
        "id": "N6fBUCciBjZg"
      },
      "source": [
        "## Расширение датасета"
      ]
    },
    {
      "cell_type": "markdown",
      "metadata": {
        "id": "3AVLlUuMVvb6"
      },
      "source": [
        "Источник модели для генерации https://habr.com/ru/articles/660565/"
      ]
    },
    {
      "cell_type": "code",
      "execution_count": null,
      "metadata": {
        "colab": {
          "base_uri": "https://localhost:8080/"
        },
        "id": "bW_PfjCvD5Lg",
        "outputId": "e6470f71-c07a-45f3-e1bb-5b5a3202110c"
      },
      "outputs": [
        {
          "name": "stdout",
          "output_type": "stream",
          "text": [
            "\u001b[?25l     \u001b[90m━━━━━━━━━━━━━━━━━━━━━━━━━━━━━━━━━━━━━━━━\u001b[0m \u001b[32m0.0/79.5 kB\u001b[0m \u001b[31m?\u001b[0m eta \u001b[36m-:--:--\u001b[0m\r\u001b[2K     \u001b[90m━━━━━━━━━━━━━━━━━━━━━━━━━━━━━━━━━━━━━━━━\u001b[0m \u001b[32m79.5/79.5 kB\u001b[0m \u001b[31m2.1 MB/s\u001b[0m eta \u001b[36m0:00:00\u001b[0m\n",
            "\u001b[?25h\u001b[?25l     \u001b[90m━━━━━━━━━━━━━━━━━━━━━━━━━━━━━━━━━━━━━━━━\u001b[0m \u001b[32m0.0/117.0 kB\u001b[0m \u001b[31m?\u001b[0m eta \u001b[36m-:--:--\u001b[0m\r\u001b[2K     \u001b[90m━━━━━━━━━━━━━━━━━━━━━━━━━━━━━━━━━━━━━━━━\u001b[0m \u001b[32m117.0/117.0 kB\u001b[0m \u001b[31m7.2 MB/s\u001b[0m eta \u001b[36m0:00:00\u001b[0m\n",
            "\u001b[?25h  Preparing metadata (setup.py) ... \u001b[?25l\u001b[?25hdone\n",
            "  Building wheel for antlr4-python3-runtime (setup.py) ... \u001b[?25l\u001b[?25hdone\n"
          ]
        }
      ],
      "source": [
        "!pip install -q torchaudio omegaconf\n",
        "\n",
        "import torch\n",
        "from pprint import pprint\n",
        "from omegaconf import OmegaConf\n",
        "from IPython.display import Audio, display\n",
        "\n",
        "import os\n",
        "import wave\n",
        "import contextlib\n",
        "\n",
        "torch.hub.download_url_to_file('https://raw.githubusercontent.com/snakers4/silero-models/master/models.yml',\n",
        "                               'latest_silero_models.yml',\n",
        "                               progress=False)\n",
        "models = OmegaConf.load('latest_silero_models.yml')"
      ]
    },
    {
      "cell_type": "code",
      "execution_count": null,
      "metadata": {
        "colab": {
          "base_uri": "https://localhost:8080/"
        },
        "id": "ac9UhjwSVp7F",
        "outputId": "ab73245a-260c-4c9b-df74-c270f2365a46"
      },
      "outputs": [
        {
          "name": "stdout",
          "output_type": "stream",
          "text": [
            "Available languages ['ru', 'en', 'de', 'es', 'fr', 'ba', 'xal', 'tt', 'uz', 'ua', 'indic', 'cyrillic', 'multi']\n",
            "Available models for ru: ['v4_ru', 'v3_1_ru', 'ru_v3', 'aidar_v2', 'aidar_8khz', 'aidar_16khz', 'baya_v2', 'baya_8khz', 'baya_16khz', 'irina_v2', 'irina_8khz', 'irina_16khz', 'kseniya_v2', 'kseniya_8khz', 'kseniya_16khz', 'natasha_v2', 'natasha_8khz', 'natasha_16khz', 'ruslan_v2', 'ruslan_8khz', 'ruslan_16khz']\n",
            "Available models for en: ['v3_en', 'v3_en_indic', 'lj_v2', 'lj_8khz', 'lj_16khz']\n",
            "Available models for de: ['v3_de', 'thorsten_v2', 'thorsten_8khz', 'thorsten_16khz']\n",
            "Available models for es: ['v3_es', 'tux_v2', 'tux_8khz', 'tux_16khz']\n",
            "Available models for fr: ['v3_fr', 'gilles_v2', 'gilles_8khz', 'gilles_16khz']\n",
            "Available models for ba: ['aigul_v2']\n",
            "Available models for xal: ['v3_xal', 'erdni_v2']\n",
            "Available models for tt: ['v3_tt', 'dilyara_v2']\n",
            "Available models for uz: ['v4_uz', 'v3_uz', 'dilnavoz_v2']\n",
            "Available models for ua: ['v4_ua', 'v3_ua', 'mykyta_v2']\n",
            "Available models for indic: ['v4_indic', 'v3_indic']\n",
            "Available models for cyrillic: ['v4_cyrillic']\n",
            "Available models for multi: ['multi_v2']\n"
          ]
        }
      ],
      "source": [
        "# see latest avaiable models\n",
        "available_languages = list(models.tts_models.keys())\n",
        "print(f'Available languages {available_languages}')\n",
        "\n",
        "for lang in available_languages:\n",
        "    _models = list(models.tts_models.get(lang).keys())\n",
        "    print(f'Available models for {lang}: {_models}')"
      ]
    },
    {
      "cell_type": "code",
      "execution_count": null,
      "metadata": {
        "colab": {
          "base_uri": "https://localhost:8080/"
        },
        "id": "bJfkudL7V6o5",
        "outputId": "f0d43518-e934-4b02-9308-f376d2672ca3"
      },
      "outputs": [
        {
          "name": "stderr",
          "output_type": "stream",
          "text": [
            "/usr/local/lib/python3.10/dist-packages/torch/hub.py:294: UserWarning: You are about to download and run code from an untrusted repository. In a future release, this won't be allowed. To add the repository to your trusted list, change the command to {calling_fn}(..., trust_repo=False) and a command prompt will appear asking for an explicit confirmation of trust, or load(..., trust_repo=True), which will assume that the prompt is to be answered with 'yes'. You can also use load(..., trust_repo='check') which will only prompt for confirmation if the repo is not already trusted. This will eventually be the default behaviour\n",
            "  warnings.warn(\n",
            "Downloading: \"https://github.com/snakers4/silero-models/zipball/master\" to /root/.cache/torch/hub/master.zip\n",
            "100%|██████████| 38.2M/38.2M [00:02<00:00, 18.9MB/s]\n"
          ]
        }
      ],
      "source": [
        "import torch\n",
        "\n",
        "language = 'ru'\n",
        "model_id = 'v4_ru'\n",
        "device = torch.device('cpu')\n",
        "\n",
        "model, example_text = torch.hub.load(repo_or_dir='snakers4/silero-models',\n",
        "                                     model='silero_tts',\n",
        "                                     language=language,\n",
        "                                     speaker=model_id)\n",
        "model.to(device)  # gpu or cpu"
      ]
    },
    {
      "cell_type": "code",
      "execution_count": null,
      "metadata": {
        "colab": {
          "base_uri": "https://localhost:8080/"
        },
        "id": "iX10uTq2E1Af",
        "outputId": "d790e84c-e9ce-47d3-de77-8cd8fc3ab01b"
      },
      "outputs": [
        {
          "data": {
            "text/plain": [
              "['aidar', 'baya', 'kseniya', 'xenia', 'eugene', 'random']"
            ]
          },
          "execution_count": 4,
          "metadata": {},
          "output_type": "execute_result"
        }
      ],
      "source": [
        "speakers = model.speakers\n",
        "speakers"
      ]
    },
    {
      "cell_type": "code",
      "execution_count": null,
      "metadata": {
        "id": "mvYdx553E3gq"
      },
      "outputs": [],
      "source": [
        "def write_wave(path, audio, sample_rate):\n",
        "    \"\"\"Writes a .wav file.\n",
        "    Takes path, PCM audio data, and sample rate.\n",
        "    \"\"\"\n",
        "    with contextlib.closing(wave.open(path, 'wb')) as wf:\n",
        "        wf.setnchannels(1)\n",
        "        wf.setsampwidth(2)\n",
        "        wf.setframerate(sample_rate)\n",
        "        wf.writeframes(audio)"
      ]
    },
    {
      "cell_type": "code",
      "execution_count": null,
      "metadata": {
        "id": "3ZbTEblgBoTo"
      },
      "outputs": [],
      "source": [
        "data_path = '/content/drive/MyDrive/ai/sounds/extended_dataset/'\n",
        "\n",
        "speakers = model.speakers\n",
        "\n",
        "sample_rate = 48000\n",
        "put_accent=True\n",
        "put_yo=True\n",
        "\n",
        "command_list = command_list_extended"
      ]
    },
    {
      "cell_type": "code",
      "execution_count": null,
      "metadata": {
        "id": "NAb5VRVGWksa"
      },
      "outputs": [],
      "source": [
        "for command in command_list:\n",
        "\n",
        "  new_dir = f\"{data_path}{command}\"\n",
        "  os.mkdir(new_dir)\n",
        "\n",
        "  for speaker in speakers:\n",
        "\n",
        "    audio = model.apply_tts(text=command,\n",
        "                            speaker=speaker,\n",
        "                            sample_rate=sample_rate,\n",
        "                            put_accent=put_accent,\n",
        "                            put_yo=put_yo)\n",
        "\n",
        "    write_wave(path=f\"{new_dir}/{speaker}.wav\",\n",
        "               audio=(audio * 32767).numpy().astype('int16'),\n",
        "               sample_rate=sample_rate)"
      ]
    },
    {
      "cell_type": "code",
      "execution_count": null,
      "metadata": {
        "colab": {
          "base_uri": "https://localhost:8080/",
          "height": 75
        },
        "id": "5UEVqbiphFbi",
        "outputId": "15af5ac2-7a16-4673-c94b-36caf0e484e1"
      },
      "outputs": [
        {
          "data": {
            "text/html": [
              "\n",
              "                <audio  controls=\"controls\" >\n",
              "                    <source src=\"data:audio/x-wav;base64,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\" type=\"audio/x-wav\" />\n",
              "                    Your browser does not support the audio element.\n",
              "                </audio>\n",
              "              "
            ],
            "text/plain": [
              "<IPython.lib.display.Audio object>"
            ]
          },
          "metadata": {},
          "output_type": "display_data"
        }
      ],
      "source": [
        "from IPython.display import Audio, display\n",
        "display(Audio(f'{data_path}/Остановись/eugene.wav', rate=sample_rate))"
      ]
    },
    {
      "cell_type": "code",
      "execution_count": null,
      "metadata": {
        "id": "7uLaFJ1cWop0"
      },
      "outputs": [],
      "source": [
        "N = 20\n",
        "speaker = 'random'\n",
        "\n",
        "for i, command in enumerate(command_list):\n",
        "\n",
        "  for i in range(N):\n",
        "\n",
        "    audio = model.apply_tts(text=command,\n",
        "                            speaker=speaker,\n",
        "                            sample_rate=sample_rate)\n",
        "\n",
        "    write_wave(path=f\"{data_path}{command}/random_00{i}.wav\",\n",
        "               audio=(audio * 32767).numpy().astype('int16'),\n",
        "               sample_rate=sample_rate)"
      ]
    },
    {
      "cell_type": "code",
      "execution_count": null,
      "metadata": {
        "colab": {
          "base_uri": "https://localhost:8080/",
          "height": 75
        },
        "id": "JO2Cp3Eehu5-",
        "outputId": "d5cd9dff-b1c3-4c7c-8908-4b67940bcd42"
      },
      "outputs": [
        {
          "data": {
            "text/html": [
              "\n",
              "                <audio  controls=\"controls\" >\n",
              "                    <source src=\"data:audio/x-wav;base64,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\" type=\"audio/x-wav\" />\n",
              "                    Your browser does not support the audio element.\n",
              "                </audio>\n",
              "              "
            ],
            "text/plain": [
              "<IPython.lib.display.Audio object>"
            ]
          },
          "metadata": {},
          "output_type": "display_data"
        }
      ],
      "source": [
        "from IPython.display import Audio, display\n",
        "display(Audio(f'{data_path}/Остановись/random_001.wav', rate=sample_rate))"
      ]
    },
    {
      "cell_type": "code",
      "execution_count": null,
      "metadata": {
        "colab": {
          "base_uri": "https://localhost:8080/",
          "height": 93
        },
        "id": "B9ns5o_YbybS",
        "outputId": "43ae495b-1e76-40dd-8a66-696587a10655"
      },
      "outputs": [
        {
          "name": "stdout",
          "output_type": "stream",
          "text": [
            "Requirement already satisfied: pydub in /usr/local/lib/python3.10/dist-packages (0.25.1)\n"
          ]
        },
        {
          "data": {
            "text/html": [
              "\n",
              "                    <audio controls>\n",
              "                        <source src=\"data:audio/mpeg;base64,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\" type=\"audio/mpeg\"/>\n",
              "                        Your browser does not support the audio element.\n",
              "                    </audio>\n",
              "                  "
            ],
            "text/plain": [
              "<pydub.audio_segment.AudioSegment at 0x7fad3dedefb0>"
            ]
          },
          "execution_count": 35,
          "metadata": {},
          "output_type": "execute_result"
        }
      ],
      "source": [
        "# Проверим длительность файлов\n",
        "\n",
        "!pip install pydub\n",
        "\n",
        "from pydub import AudioSegment\n",
        "\n",
        "voice_command = AudioSegment.from_file(f'{FILE_DIR}/Остановись/random_001.wav')\n",
        "\n",
        "voice_command"
      ]
    },
    {
      "cell_type": "code",
      "execution_count": null,
      "metadata": {
        "colab": {
          "base_uri": "https://localhost:8080/",
          "height": 75
        },
        "id": "X9TJlnBQcpT3",
        "outputId": "e5ee2a6a-20b7-484b-a06e-cc6b21482ac8"
      },
      "outputs": [
        {
          "data": {
            "text/html": [
              "\n",
              "                    <audio controls>\n",
              "                        <source src=\"data:audio/mpeg;base64,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\" type=\"audio/mpeg\"/>\n",
              "                        Your browser does not support the audio element.\n",
              "                    </audio>\n",
              "                  "
            ],
            "text/plain": [
              "<pydub.audio_segment.AudioSegment at 0x7fad3db4e050>"
            ]
          },
          "execution_count": 36,
          "metadata": {},
          "output_type": "execute_result"
        }
      ],
      "source": [
        "\n",
        "voice_command = AudioSegment.from_file(f'{FILE_DIR}/Остановись/eugene.wav')\n",
        "\n",
        "voice_command"
      ]
    },
    {
      "cell_type": "markdown",
      "metadata": {
        "id": "xXXegMLp82po"
      },
      "source": [
        "## Подача в нейросеть"
      ]
    },
    {
      "cell_type": "code",
      "execution_count": null,
      "metadata": {
        "id": "KPJUv1Ml6u-a"
      },
      "outputs": [],
      "source": [
        "# Преобразование категориальных данных в one hot encoding\n",
        "from tensorflow.keras.utils import to_categorical\n",
        "\n",
        "# Сохранение и загрузка структур данных Python\n",
        "import pickle\n",
        "\n",
        "# Оптимизаторы для обучения моделей\n",
        "from tensorflow.keras.optimizers import Adam, RMSprop\n",
        "\n",
        "# Разбиение на обучающую и проверочную выборку\n",
        "from sklearn.model_selection import train_test_split\n",
        "\n",
        "# Кодирование категориальных меток, нормирование числовых данных\n",
        "from sklearn.preprocessing import LabelEncoder, StandardScaler\n",
        "\n",
        "# Матрица ошибок классификатора\n",
        "from sklearn.metrics import confusion_matrix, ConfusionMatrixDisplay\n",
        "\n",
        "# Отключение предупреждений\n",
        "import warnings\n",
        "warnings.filterwarnings('ignore')\n",
        "\n",
        "%matplotlib inline"
      ]
    },
    {
      "cell_type": "markdown",
      "metadata": {
        "id": "r17h9VGuRu_r"
      },
      "source": [
        "\n",
        "## Сохранение изображения мел коэффициентов в файл"
      ]
    },
    {
      "cell_type": "code",
      "execution_count": null,
      "metadata": {
        "id": "SVMWOx_jOxF0"
      },
      "outputs": [],
      "source": [
        "import librosa\n",
        "\n",
        "def load_audio(audio_path,       # путь к файлу с аудио\n",
        "               show_text=True,   # показывать ли текстовую сводку по аудио\n",
        "               show_player=True  # выводить ли проигрыватель в ячейку\n",
        "               ):\n",
        "\n",
        "    x, sr = librosa.load(audio_path)\n",
        "\n",
        "    if show_text:\n",
        "        # Вывод текстовых данных о сигнале\n",
        "        print(f'Типы данных x и sr: {type(x)}, {type(sr)}')\n",
        "        print(f'Форма данных x: {x.shape}, sr = {sr}')\n",
        "        print('Продолжительность сигнала:', round(x.shape[0]/sr), 'с.\\n')\n",
        "\n",
        "    if show_player:\n",
        "        # Вывод проигрывателя в ячейку colab\n",
        "        ipd.display(ipd.Audio(audio_path))\n",
        "\n",
        "    # Возврат загруженных данных для дальнейшего использования\n",
        "    return x, sr"
      ]
    },
    {
      "cell_type": "code",
      "execution_count": null,
      "metadata": {
        "id": "vZfWKyyqiF6a"
      },
      "outputs": [],
      "source": [
        "# Пример аугментации\n",
        "\n",
        "# Квадрат значений\n",
        "x_train_data_sqr = x_train_data ** 2\n",
        "\n",
        "# Квадратный корень из модулей значений\n",
        "x_train_data_sqrt = np.abs(x_train_data) ** 0.5\n",
        "\n",
        "# Обратная величина\n",
        "x_train_data_inv = 1. / x_train_data\n",
        "\n",
        "# 2 в степени каждого значения\n",
        "x_train_data_exp = 2. ** x_train_data\n",
        "\n",
        "# Формирование нового тренировочного набора данных\n",
        "x_train_data_aug = np.hstack([x_train_data, x_train_data_sqr, x_train_data_sqrt, x_train_data_exp])"
      ]
    },
    {
      "cell_type": "markdown",
      "metadata": {
        "id": "jMYtngP7SVH-"
      },
      "source": [
        "## Аугментация"
      ]
    },
    {
      "cell_type": "code",
      "execution_count": null,
      "metadata": {
        "id": "AMcjtYPfZffa"
      },
      "outputs": [],
      "source": [
        "# Функция для аугментации и сохранения нормированных мел в виде изображения\n",
        "def save_normal_mfcc_aug_img(audio_fname, image_fname):\n",
        "    # Загрузка аудио\n",
        "    # x, sr = load_audio(audio_fname)\n",
        "    x, sr = load_audio(audio_fname, show_text=False, show_player=False)\n",
        "    # Вычисление и отображение мел-частотных кепстральных коэффициентов\n",
        "    mfcc = librosa.feature.mfcc(y=x, sr=sr)\n",
        "    # Нормирование мел-коэффициентов\n",
        "    normalized_mfcc = scale(mfcc, axis=1)\n",
        "    # Сохранение визуализации нормированных коэффициентов в файл\n",
        "    plt.figure(figsize=(14, 5))\n",
        "    librosa.display.specshow(normalized_mfcc, sr=sr, x_axis='time')\n",
        "    plt.savefig(f'{image_fname}_0.png')\n",
        "\n",
        "    # То же самое для квадратов значений\n",
        "    normalized_mfcc = scale(mfcc ** 2, axis=1)\n",
        "    # Сохранение визуализации нормированных коэффициентов в файл\n",
        "    plt.figure(figsize=(14, 5))\n",
        "    librosa.display.specshow(normalized_mfcc, sr=sr, x_axis='time')\n",
        "    plt.savefig(f'{image_fname}_1.png')\n",
        "\n",
        "    # То же самое для корней из модулей значений\n",
        "    normalized_mfcc = scale(np.abs(mfcc) ** 0.5, axis=1)\n",
        "    # Сохранение визуализации нормированных коэффициентов в файл\n",
        "    plt.figure(figsize=(14, 5))\n",
        "    librosa.display.specshow(normalized_mfcc, sr=sr, x_axis='time')\n",
        "    plt.savefig(f'{image_fname}_2.png')\n",
        "\n",
        "    # То же самое для обратных велечин\n",
        "    # normalized_mfcc = scale(1. / mfcc, axis=1)\n",
        "    # Сохранение визуализации нормированных коэффициентов в файл\n",
        "    # plt.figure(figsize=(14, 5))\n",
        "    # librosa.display.specshow(normalized_mfcc, sr=sr, x_axis='time')\n",
        "    # plt.savefig(f'{image_fname}_3.png')\n"
      ]
    },
    {
      "cell_type": "code",
      "execution_count": null,
      "metadata": {
        "id": "R0jbdS9WSSlc"
      },
      "outputs": [],
      "source": [
        "# Функция для сохранения нормированных мел в виде изображения\n",
        "\n",
        "def save_normal_mfcc_img(audio_fname, image_fname):\n",
        "    # Загрузка аудио\n",
        "    # x, sr = load_audio(audio_fname)\n",
        "    x, sr = load_audio(audio_fname, show_text=False, show_player=False)\n",
        "    # Вычисление и отображение мел-частотных кепстральных коэффициентов\n",
        "    mfcc = librosa.feature.mfcc(y=x, sr=sr)\n",
        "    # Нормирование мел-коэффициентов\n",
        "    normalized_mfcc = scale(mfcc, axis=1)\n",
        "    # Сохранение визуализации нормированных коэффициентов в файл\n",
        "    plt.figure(figsize=(14, 5))\n",
        "    librosa.display.specshow(normalized_mfcc, sr=sr, x_axis='time')\n",
        "    plt.savefig(image_fname)"
      ]
    },
    {
      "cell_type": "code",
      "execution_count": null,
      "metadata": {
        "id": "iIqWeFldZAom"
      },
      "outputs": [],
      "source": [
        "# Создание набора данных на основе изображений мел коэффициентов\n",
        "\n",
        "import os\n",
        "\n",
        "audio_path = f'{data_path}/extended_dataset'\n",
        "image_path = f'{data_path}/mel_aug_images'\n",
        "\n",
        "for dir in os.listdir(audio_path):\n",
        "    print(dir)\n",
        "\n",
        "    img_dir = f'{image_path}/{dir}'\n",
        "    os.mkdir(img_dir)\n",
        "\n",
        "    for f_name in os.listdir(f'{audio_path}/{dir}'):\n",
        "\n",
        "        save_normal_mfcc_aug_img(f'{audio_path}/{dir}/{f_name}', f'{img_dir}/{f_name[:-4]}')\n",
        "        print(f'{audio_path}/{dir}/{f_name}')"
      ]
    },
    {
      "cell_type": "code",
      "execution_count": null,
      "metadata": {
        "colab": {
          "background_save": true,
          "base_uri": "https://localhost:8080/"
        },
        "id": "SfQzKB92oP8q",
        "outputId": "2038fe97-53eb-447f-f951-c7fad6b437fb"
      },
      "outputs": [
        {
          "name": "stdout",
          "output_type": "stream",
          "text": [
            "Using matplotlib backend: agg\n",
            "/content/drive/MyDrive/ai/sounds/mel_aug_images/руки - какие руки\n",
            "/content/drive/MyDrive/ai/sounds/extended_dataset/руки - какие руки/aidar.wav\n",
            "/content/drive/MyDrive/ai/sounds/extended_dataset/руки - какие руки/baya.wav\n",
            "/content/drive/MyDrive/ai/sounds/extended_dataset/руки - какие руки/kseniya.wav\n",
            "/content/drive/MyDrive/ai/sounds/extended_dataset/руки - какие руки/xenia.wav\n",
            "/content/drive/MyDrive/ai/sounds/extended_dataset/руки - какие руки/eugene.wav\n",
            "/content/drive/MyDrive/ai/sounds/extended_dataset/руки - какие руки/random.wav\n",
            "/content/drive/MyDrive/ai/sounds/extended_dataset/руки - какие руки/random_000.wav\n",
            "/content/drive/MyDrive/ai/sounds/extended_dataset/руки - какие руки/random_001.wav\n",
            "/content/drive/MyDrive/ai/sounds/extended_dataset/руки - какие руки/random_002.wav\n",
            "/content/drive/MyDrive/ai/sounds/extended_dataset/руки - какие руки/random_003.wav\n",
            "/content/drive/MyDrive/ai/sounds/extended_dataset/руки - какие руки/random_004.wav\n",
            "/content/drive/MyDrive/ai/sounds/extended_dataset/руки - какие руки/random_005.wav\n",
            "/content/drive/MyDrive/ai/sounds/extended_dataset/руки - какие руки/random_006.wav\n",
            "/content/drive/MyDrive/ai/sounds/extended_dataset/руки - какие руки/random_007.wav\n",
            "/content/drive/MyDrive/ai/sounds/extended_dataset/руки - какие руки/random_008.wav\n",
            "/content/drive/MyDrive/ai/sounds/extended_dataset/руки - какие руки/random_009.wav\n",
            "/content/drive/MyDrive/ai/sounds/extended_dataset/руки - какие руки/random_0010.wav\n",
            "/content/drive/MyDrive/ai/sounds/extended_dataset/руки - какие руки/random_0011.wav\n",
            "/content/drive/MyDrive/ai/sounds/extended_dataset/руки - какие руки/random_0012.wav\n",
            "/content/drive/MyDrive/ai/sounds/extended_dataset/руки - какие руки/random_0013.wav\n",
            "/content/drive/MyDrive/ai/sounds/extended_dataset/руки - какие руки/random_0014.wav\n",
            "/content/drive/MyDrive/ai/sounds/extended_dataset/руки - какие руки/random_0015.wav\n",
            "/content/drive/MyDrive/ai/sounds/extended_dataset/руки - какие руки/random_0016.wav\n",
            "/content/drive/MyDrive/ai/sounds/extended_dataset/руки - какие руки/random_0017.wav\n",
            "/content/drive/MyDrive/ai/sounds/extended_dataset/руки - какие руки/random_0018.wav\n",
            "/content/drive/MyDrive/ai/sounds/extended_dataset/руки - какие руки/random_0019.wav\n",
            "/content/drive/MyDrive/ai/sounds/mel_aug_images/спускайся по лестнице\n",
            "/content/drive/MyDrive/ai/sounds/extended_dataset/спускайся по лестнице/aidar.wav\n",
            "/content/drive/MyDrive/ai/sounds/extended_dataset/спускайся по лестнице/baya.wav\n",
            "/content/drive/MyDrive/ai/sounds/extended_dataset/спускайся по лестнице/kseniya.wav\n",
            "/content/drive/MyDrive/ai/sounds/extended_dataset/спускайся по лестнице/xenia.wav\n",
            "/content/drive/MyDrive/ai/sounds/extended_dataset/спускайся по лестнице/eugene.wav\n",
            "/content/drive/MyDrive/ai/sounds/extended_dataset/спускайся по лестнице/random.wav\n",
            "/content/drive/MyDrive/ai/sounds/extended_dataset/спускайся по лестнице/random_000.wav\n",
            "/content/drive/MyDrive/ai/sounds/extended_dataset/спускайся по лестнице/random_001.wav\n",
            "/content/drive/MyDrive/ai/sounds/extended_dataset/спускайся по лестнице/random_002.wav\n",
            "/content/drive/MyDrive/ai/sounds/extended_dataset/спускайся по лестнице/random_003.wav\n",
            "/content/drive/MyDrive/ai/sounds/extended_dataset/спускайся по лестнице/random_004.wav\n",
            "/content/drive/MyDrive/ai/sounds/extended_dataset/спускайся по лестнице/random_005.wav\n",
            "/content/drive/MyDrive/ai/sounds/extended_dataset/спускайся по лестнице/random_006.wav\n",
            "/content/drive/MyDrive/ai/sounds/extended_dataset/спускайся по лестнице/random_007.wav\n",
            "/content/drive/MyDrive/ai/sounds/extended_dataset/спускайся по лестнице/random_008.wav\n",
            "/content/drive/MyDrive/ai/sounds/extended_dataset/спускайся по лестнице/random_009.wav\n",
            "/content/drive/MyDrive/ai/sounds/extended_dataset/спускайся по лестнице/random_0010.wav\n",
            "/content/drive/MyDrive/ai/sounds/extended_dataset/спускайся по лестнице/random_0011.wav\n",
            "/content/drive/MyDrive/ai/sounds/extended_dataset/спускайся по лестнице/random_0012.wav\n",
            "/content/drive/MyDrive/ai/sounds/extended_dataset/спускайся по лестнице/random_0013.wav\n",
            "/content/drive/MyDrive/ai/sounds/extended_dataset/спускайся по лестнице/random_0014.wav\n",
            "/content/drive/MyDrive/ai/sounds/extended_dataset/спускайся по лестнице/random_0015.wav\n",
            "/content/drive/MyDrive/ai/sounds/extended_dataset/спускайся по лестнице/random_0016.wav\n",
            "/content/drive/MyDrive/ai/sounds/extended_dataset/спускайся по лестнице/random_0017.wav\n",
            "/content/drive/MyDrive/ai/sounds/extended_dataset/спускайся по лестнице/random_0018.wav\n",
            "/content/drive/MyDrive/ai/sounds/extended_dataset/спускайся по лестнице/random_0019.wav\n"
          ]
        }
      ],
      "source": [
        "# Дополнение набора набора данных на основе изображений мел коэффициентов\n",
        "import warnings\n",
        "warnings.filterwarnings('ignore')\n",
        "\n",
        "import os\n",
        "\n",
        "audio_path = f'{data_path}/extended_dataset'\n",
        "image_path = f'{data_path}/mel_aug_images'\n",
        "\n",
        "for command in command_list_lost:\n",
        "\n",
        "    audio_dir = f'{audio_path}/{command}'\n",
        "    image_dir = f'{image_path}/{command}'\n",
        "    os.mkdir(image_dir)\n",
        "\n",
        "    print(image_dir)\n",
        "\n",
        "    for f_name in os.listdir(audio_dir):\n",
        "\n",
        "        save_normal_mfcc_aug_img(f'{audio_dir}/{f_name}', f'{image_dir}/{f_name[:-4]}')\n",
        "        print(f'{audio_dir}/{f_name}')\n"
      ]
    },
    {
      "cell_type": "markdown",
      "metadata": {
        "id": "2hCj6v4ZMXc8"
      },
      "source": [
        "## Подготовка данных"
      ]
    },
    {
      "cell_type": "code",
      "execution_count": null,
      "metadata": {
        "id": "OniVspBVJ6Xx"
      },
      "outputs": [],
      "source": [
        "data_path = '/content/drive/MyDrive/ai/sounds'  # имя папки проекта (ресурсов проекта)\n",
        "audio_path = f'{data_path}/extended_dataset'    # имя папки с аудиозаписями\n",
        "image_path = f'{data_path}/mel_aug_images'      # имя папки с изображениями графического представления мел кепстральных коэффициентов"
      ]
    },
    {
      "cell_type": "code",
      "execution_count": null,
      "metadata": {
        "id": "OjVXD_FWa6qs"
      },
      "outputs": [],
      "source": [
        "import os\n",
        "import numpy as np\n",
        "\n",
        "from tensorflow.keras.preprocessing.image import load_img, img_to_array\n",
        "from sklearn.model_selection import train_test_split\n",
        "\n",
        "from tensorflow.keras.utils import to_categorical\n",
        "\n",
        "def prepare_data(directory_path, target_size=(50, 140)):\n",
        "    \"\"\"\n",
        "    Подготавливает данные для обучения модели.\n",
        "\n",
        "    Параметры:\n",
        "        directory_path (str): Путь к директории с изображениями.\n",
        "        target_size (tuple): Размер изображений, на которые они будут приведены перед обучением.\n",
        "\n",
        "    Возвращает:\n",
        "        Массивы numpy для обучающих и валидационных данных и меток классов.\n",
        "    \"\"\"\n",
        "    # Создаем списки для данных и меток\n",
        "    x_data, y_data = [], []\n",
        "    x_train, y_train, x_val, y_val = [], [], [], []\n",
        "\n",
        "    # Проходимся по всем поддиректориям и файлам в директории\n",
        "    for i, dir in enumerate(os.listdir(image_path)):\n",
        "        command_dir = f'{image_path}/{dir}'\n",
        "\n",
        "        for audio_name in os.listdir(command_dir):\n",
        "            file_name = f'{command_dir}/{audio_name}'\n",
        "            img = load_img(file_name, target_size=target_size)\n",
        "            x_data.append(img_to_array(img))\n",
        "            y_data.append(i)\n",
        "\n",
        "    y_data = to_categorical(y_data, num_classes=3)\n",
        "\n",
        "    x_train, x_val, y_train, y_val = train_test_split(x_data, y_data, test_size=0.2, random_state=42, stratify=y_data, shuffle=True)\n",
        "\n",
        "    # Преобразуем списки в массивы numpy\n",
        "    x_train = np.array(x_train)\n",
        "    y_train = np.array(y_train)\n",
        "    x_val = np.array(x_val)\n",
        "    y_val = np.array(y_val)\n",
        "\n",
        "    return x_train, y_train, x_val, y_val"
      ]
    },
    {
      "cell_type": "code",
      "execution_count": null,
      "metadata": {
        "colab": {
          "background_save": true
        },
        "id": "CyWWwpWB1Ymg"
      },
      "outputs": [],
      "source": [
        "CLASSES = os.listdir(image_path)\n"
      ]
    },
    {
      "cell_type": "code",
      "execution_count": null,
      "metadata": {
        "colab": {
          "base_uri": "https://localhost:8080/"
        },
        "id": "e2Wl_w7NbJL0",
        "outputId": "f3495563-8d0a-42f8-9c4e-08adf95c6ec8"
      },
      "outputs": [
        {
          "name": "stdout",
          "output_type": "stream",
          "text": [
            "x_train shape: (187, 50, 140, 3), y_train shape: (187, 3)\n",
            "x_val shape: (47, 50, 140, 3), y_val shape: (47, 3)\n"
          ]
        }
      ],
      "source": [
        "# Подготавливаем данные\n",
        "x_train, y_train, x_val, y_val = prepare_data(image_path)\n",
        "# Выводим размеры массивов\n",
        "print(f'x_train shape: {x_train.shape}, y_train shape: {y_train.shape}')\n",
        "print(f'x_val shape: {x_val.shape}, y_val shape: {y_val.shape}')"
      ]
    },
    {
      "cell_type": "code",
      "source": [],
      "metadata": {
        "id": "yUifh5GeOtRk"
      },
      "execution_count": null,
      "outputs": []
    },
    {
      "cell_type": "markdown",
      "metadata": {
        "id": "zsg3cdE9NC6W"
      },
      "source": [
        "#### Обучение и сохранение результатов"
      ]
    },
    {
      "cell_type": "code",
      "execution_count": null,
      "metadata": {
        "colab": {
          "base_uri": "https://localhost:8080/"
        },
        "id": "7ovz7zUcRsYq",
        "outputId": "031b859f-17ee-4ef5-e0f9-cc5c6755dc64"
      },
      "outputs": [
        {
          "name": "stdout",
          "output_type": "stream",
          "text": [
            "\u001b[?25l     \u001b[90m━━━━━━━━━━━━━━━━━━━━━━━━━━━━━━━━━━━━━━━━\u001b[0m \u001b[32m0.0/148.6 kB\u001b[0m \u001b[31m?\u001b[0m eta \u001b[36m-:--:--\u001b[0m\r\u001b[2K     \u001b[91m━━━━━━━━━━━━━━━━━━━━━━━━━━━━━━━━━━━━━━\u001b[0m\u001b[91m╸\u001b[0m\u001b[90m━\u001b[0m \u001b[32m143.4/148.6 kB\u001b[0m \u001b[31m4.1 MB/s\u001b[0m eta \u001b[36m0:00:01\u001b[0m\r\u001b[2K     \u001b[90m━━━━━━━━━━━━━━━━━━━━━━━━━━━━━━━━━━━━━━━━\u001b[0m \u001b[32m148.6/148.6 kB\u001b[0m \u001b[31m3.1 MB/s\u001b[0m eta \u001b[36m0:00:00\u001b[0m\n",
            "\u001b[2K     \u001b[90m━━━━━━━━━━━━━━━━━━━━━━━━━━━━━━━━━━━━━━━━\u001b[0m \u001b[32m128.9/128.9 kB\u001b[0m \u001b[31m14.1 MB/s\u001b[0m eta \u001b[36m0:00:00\u001b[0m\n",
            "\u001b[2K     \u001b[90m━━━━━━━━━━━━━━━━━━━━━━━━━━━━━━━━━━━━━━━━\u001b[0m \u001b[32m584.5/584.5 kB\u001b[0m \u001b[31m26.3 MB/s\u001b[0m eta \u001b[36m0:00:00\u001b[0m\n",
            "\u001b[2K     \u001b[90m━━━━━━━━━━━━━━━━━━━━━━━━━━━━━━━━━━━━━━━━\u001b[0m \u001b[32m950.8/950.8 kB\u001b[0m \u001b[31m47.1 MB/s\u001b[0m eta \u001b[36m0:00:00\u001b[0m\n",
            "\u001b[2K     \u001b[90m━━━━━━━━━━━━━━━━━━━━━━━━━━━━━━━━━━━━━━━━\u001b[0m \u001b[32m6.5/6.5 MB\u001b[0m \u001b[31m74.9 MB/s\u001b[0m eta \u001b[36m0:00:00\u001b[0m\n",
            "\u001b[?25h"
          ]
        }
      ],
      "source": [
        "!pip -q install autokeras"
      ]
    },
    {
      "cell_type": "code",
      "execution_count": null,
      "metadata": {
        "id": "ALtRMoiuDquB"
      },
      "outputs": [],
      "source": [
        "import autokeras as ak\n",
        "\n",
        "input_node = ak.ImageInput()\n",
        "output_node = ak.ImageBlock(\n",
        "    block_type=\"vanilla\",\n",
        "    normalize=True,\n",
        "    augment=False,\n",
        ")(input_node)\n",
        "output_node = ak.ClassificationHead()(output_node)\n",
        "\n",
        "clf = ak.AutoModel(\n",
        "    inputs=input_node,\n",
        "    outputs=output_node,\n",
        "    overwrite=True,\n",
        "    max_trials=10,\n",
        "    objective='val_accuracy'\n",
        ")"
      ]
    },
    {
      "cell_type": "code",
      "execution_count": null,
      "metadata": {
        "id": "DEGkU2rn2LDd"
      },
      "outputs": [],
      "source": [
        "from tensorflow import keras\n",
        "from tensorflow.keras.models import load_model"
      ]
    },
    {
      "cell_type": "code",
      "execution_count": null,
      "metadata": {
        "id": "JIUnf7iU11yh"
      },
      "outputs": [],
      "source": [
        "model_check_point = keras.callbacks.ModelCheckpoint(\"best_model\", monitor=\"val_accuracy\", verbose=0, save_best_only=True, save_weights_only=False, mode=\"auto\", save_freq=\"epoch\")"
      ]
    },
    {
      "cell_type": "code",
      "execution_count": null,
      "metadata": {
        "colab": {
          "base_uri": "https://localhost:8080/",
          "height": 852
        },
        "id": "YGxMQMgZbzrx",
        "outputId": "37468f4b-aa81-4a3d-f448-b1903dc7576e"
      },
      "outputs": [
        {
          "output_type": "stream",
          "name": "stdout",
          "text": [
            "Trial 10 Complete [00h 13m 08s]\n",
            "val_accuracy: 0.748271107673645\n",
            "\n",
            "Best val_accuracy So Far: 0.861687421798706\n",
            "Total elapsed time: 05h 04m 50s\n",
            "Epoch 1/15\n",
            "46/46 [==============================] - 60s 1s/step - loss: 3.8508 - accuracy: 0.0253 - val_loss: 3.7702 - val_accuracy: 0.0553\n",
            "Epoch 2/15\n",
            "46/46 [==============================] - 58s 1s/step - loss: 2.8342 - accuracy: 0.2961 - val_loss: 1.6723 - val_accuracy: 0.5657\n",
            "Epoch 3/15\n",
            "46/46 [==============================] - 59s 1s/step - loss: 0.9492 - accuracy: 0.7396 - val_loss: 1.2764 - val_accuracy: 0.6722\n",
            "Epoch 4/15\n",
            "46/46 [==============================] - 57s 1s/step - loss: 0.3836 - accuracy: 0.8871 - val_loss: 1.0450 - val_accuracy: 0.7109\n",
            "Epoch 5/15\n",
            "46/46 [==============================] - 58s 1s/step - loss: 0.1900 - accuracy: 0.9429 - val_loss: 0.9780 - val_accuracy: 0.7524\n",
            "Epoch 6/15\n",
            "46/46 [==============================] - 57s 1s/step - loss: 0.1109 - accuracy: 0.9671 - val_loss: 0.7639 - val_accuracy: 0.8174\n",
            "Epoch 7/15\n",
            "46/46 [==============================] - 59s 1s/step - loss: 0.0584 - accuracy: 0.9827 - val_loss: 0.8026 - val_accuracy: 0.8230\n",
            "Epoch 8/15\n",
            "46/46 [==============================] - 56s 1s/step - loss: 0.0435 - accuracy: 0.9868 - val_loss: 0.6478 - val_accuracy: 0.8423\n",
            "Epoch 9/15\n",
            "46/46 [==============================] - 59s 1s/step - loss: 0.0302 - accuracy: 0.9917 - val_loss: 0.6830 - val_accuracy: 0.8603\n",
            "Epoch 10/15\n",
            "46/46 [==============================] - 57s 1s/step - loss: 0.0170 - accuracy: 0.9941 - val_loss: 0.7965 - val_accuracy: 0.8382\n",
            "Epoch 11/15\n",
            "46/46 [==============================] - 57s 1s/step - loss: 0.0131 - accuracy: 0.9965 - val_loss: 0.7228 - val_accuracy: 0.8437\n",
            "Epoch 12/15\n",
            "46/46 [==============================] - 57s 1s/step - loss: 0.0085 - accuracy: 0.9979 - val_loss: 0.7978 - val_accuracy: 0.8423\n",
            "Epoch 13/15\n",
            "46/46 [==============================] - 59s 1s/step - loss: 0.0164 - accuracy: 0.9945 - val_loss: 0.6523 - val_accuracy: 0.8617\n",
            "Epoch 14/15\n",
            "46/46 [==============================] - 52s 1s/step - loss: 0.0088 - accuracy: 0.9969 - val_loss: 0.9213 - val_accuracy: 0.8216\n",
            "Epoch 15/15\n",
            "46/46 [==============================] - 59s 1s/step - loss: 0.0142 - accuracy: 0.9955 - val_loss: 0.7930 - val_accuracy: 0.8589\n"
          ]
        },
        {
          "output_type": "error",
          "ename": "NameError",
          "evalue": "ignored",
          "traceback": [
            "\u001b[0;31m---------------------------------------------------------------------------\u001b[0m",
            "\u001b[0;31mNameError\u001b[0m                                 Traceback (most recent call last)",
            "\u001b[0;32m<ipython-input-11-ddadb35f22a9>\u001b[0m in \u001b[0;36m<cell line: 3>\u001b[0;34m()\u001b[0m\n\u001b[1;32m      1\u001b[0m \u001b[0mclf\u001b[0m\u001b[0;34m.\u001b[0m\u001b[0mfit\u001b[0m\u001b[0;34m(\u001b[0m\u001b[0mx_train\u001b[0m\u001b[0;34m,\u001b[0m \u001b[0my_train\u001b[0m\u001b[0;34m,\u001b[0m \u001b[0mvalidation_data\u001b[0m\u001b[0;34m=\u001b[0m\u001b[0;34m(\u001b[0m\u001b[0mx_val\u001b[0m\u001b[0;34m,\u001b[0m \u001b[0my_val\u001b[0m\u001b[0;34m)\u001b[0m\u001b[0;34m,\u001b[0m \u001b[0mepochs\u001b[0m\u001b[0;34m=\u001b[0m\u001b[0;36m15\u001b[0m\u001b[0;34m,\u001b[0m \u001b[0mbatch_size\u001b[0m\u001b[0;34m=\u001b[0m\u001b[0;36m64\u001b[0m\u001b[0;34m,\u001b[0m \u001b[0mcallbacks\u001b[0m\u001b[0;34m=\u001b[0m\u001b[0;34m[\u001b[0m\u001b[0mmodel_check_point\u001b[0m\u001b[0;34m]\u001b[0m\u001b[0;34m)\u001b[0m\u001b[0;34m\u001b[0m\u001b[0;34m\u001b[0m\u001b[0m\n\u001b[1;32m      2\u001b[0m \u001b[0;34m\u001b[0m\u001b[0m\n\u001b[0;32m----> 3\u001b[0;31m \u001b[0mbest_model\u001b[0m \u001b[0;34m=\u001b[0m \u001b[0mload_model\u001b[0m\u001b[0;34m(\u001b[0m\u001b[0;34m'best_model'\u001b[0m\u001b[0;34m)\u001b[0m\u001b[0;34m\u001b[0m\u001b[0;34m\u001b[0m\u001b[0m\n\u001b[0m\u001b[1;32m      4\u001b[0m \u001b[0mbest_model\u001b[0m\u001b[0;34m.\u001b[0m\u001b[0msave\u001b[0m\u001b[0;34m(\u001b[0m\u001b[0;34m'/content/drive/MyDrive/ai/sounds/models/model_8best_ak_2011.keras'\u001b[0m\u001b[0;34m)\u001b[0m\u001b[0;34m\u001b[0m\u001b[0;34m\u001b[0m\u001b[0m\n\u001b[1;32m      5\u001b[0m \u001b[0;34m\u001b[0m\u001b[0m\n",
            "\u001b[0;31mNameError\u001b[0m: name 'load_model' is not defined"
          ]
        }
      ],
      "source": [
        "clf.fit(x_train, y_train, validation_data=(x_val, y_val), epochs=15, batch_size=64, callbacks=[model_check_point])\n",
        "\n",
        "best_model = load_model('best_model')\n",
        "best_model.save('/content/drive/MyDrive/ai/sounds/models/model_8best_ak_2011.keras')\n",
        "\n",
        "model = clf.export_model()\n",
        "model.save('/content/drive/MyDrive/ai/sounds/models/model_8_ak_2011.keras')"
      ]
    },
    {
      "cell_type": "code",
      "source": [],
      "metadata": {
        "id": "FFgvECnKHASc"
      },
      "execution_count": null,
      "outputs": []
    },
    {
      "cell_type": "code",
      "execution_count": null,
      "metadata": {
        "id": "UbjLj4XnJUc7"
      },
      "outputs": [],
      "source": [
        "# model_ [номер эксперимента]_[способ ak - autokeras_[vanilla - преднастройка]]_ [val_accuracyXX]_[DDMM - дата]\n",
        "best_model = load_model('best_model')\n",
        "best_model.summary()"
      ]
    },
    {
      "cell_type": "code",
      "execution_count": null,
      "metadata": {
        "id": "qDxVnzAALkvw"
      },
      "outputs": [],
      "source": [
        "best_model.save('/content/drive/MyDrive/ai/sounds/models/model_7_ak_va10_1211.keras')"
      ]
    },
    {
      "cell_type": "code",
      "execution_count": null,
      "metadata": {
        "id": "gZtATx18LO6n"
      },
      "outputs": [],
      "source": [
        "from tensorflow.keras.optimizers import Adam\n",
        "\n",
        "model_x.compile(loss='categorical_crossentropy', optimizer=Adam(learning_rate=0.0001), metrics=['accuracy'])"
      ]
    }
  ],
  "metadata": {
    "colab": {
      "provenance": []
    },
    "kernelspec": {
      "display_name": "Python 3",
      "name": "python3"
    },
    "language_info": {
      "name": "python"
    }
  },
  "nbformat": 4,
  "nbformat_minor": 0
}