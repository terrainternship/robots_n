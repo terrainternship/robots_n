{
  "nbformat": 4,
  "nbformat_minor": 0,
  "metadata": {
    "colab": {
      "private_outputs": true,
      "provenance": []
    },
    "kernelspec": {
      "name": "python3",
      "display_name": "Python 3"
    },
    "language_info": {
      "name": "python"
    }
  },
  "cells": [
    {
      "cell_type": "markdown",
      "source": [
        "Пример команды:\n",
        "стой\n",
        "вперед\n",
        "влево\n",
        "вправо\n",
        "расжать клешню\n",
        "сжать клешню\n",
        "двигаться вперед\n",
        "двигаться назад\n",
        "двигаться вправо\n",
        "двигаться влево"
      ],
      "metadata": {
        "id": "UR73haP38Hft"
      }
    },
    {
      "cell_type": "markdown",
      "source": [
        "**Задача:**\n",
        "Сгенерировать звуковые файлы для данного списка команд. Приблизительно по 50 команд для теста и попробовать распознавание в непрерывной речи.\n",
        "Ключевое слово для распознавания, возмем к примеру, робот.\n",
        "\n",
        "['робот   стой',\n",
        " 'робот   вперед',\n",
        " 'робот   влево',\n",
        " 'робот   вправо',\n",
        " 'робот   расжать клешню',\n",
        " 'робот   сжать клешню',\n",
        " 'робот   двигаться вперед',\n",
        " 'робот   двигаться назад',\n",
        " 'робот   двигаться вправо',\n",
        " 'робот   двигаться влево'\n",
        "]"
      ],
      "metadata": {
        "id": "z13W9N7-8qJa"
      }
    },
    {
      "cell_type": "code",
      "source": [
        "%%capture\n",
        "!pip install omegaconf"
      ],
      "metadata": {
        "id": "dFai8WlDQNw_"
      },
      "execution_count": null,
      "outputs": []
    },
    {
      "cell_type": "code",
      "source": [
        "import os\n",
        "import torch\n",
        "from IPython.display import Audio\n",
        "# Библиотека для воспроизведения звуковых файлов\n",
        "import IPython.display as ipd\n",
        "import zipfile\n",
        "from tqdm.notebook import tqdm\n",
        "import time\n",
        "import librosa\n",
        "import soundfile as sf\n",
        "\n",
        "import subprocess\n",
        "import tensorflow as tf\n",
        "import tensorflow_hub as tf_hub\n",
        "from omegaconf import OmegaConf"
      ],
      "metadata": {
        "id": "3iNAuiOy-sfm"
      },
      "execution_count": null,
      "outputs": []
    },
    {
      "cell_type": "code",
      "source": [
        "  # Для каждого файла\n",
        "#    for wavfile in tqdm(wavfiles, \"Сохраняем векторы класса - '{}'\".format(label)):"
      ],
      "metadata": {
        "id": "mpWBTzmSnt9t"
      },
      "execution_count": null,
      "outputs": []
    },
    {
      "cell_type": "markdown",
      "source": [
        "# Команды роботов"
      ],
      "metadata": {
        "id": "dVYdvt50rha3"
      }
    },
    {
      "cell_type": "code",
      "source": [
        "list_command = {\n",
        "                '0_robot':          'РОБОТ',\n",
        "                '1_stop':           'СТОЙ',\n",
        "                '2_forward':        'ВПЕРЕД',\n",
        "                '3_backwards':      'НАЗАД',\n",
        "                '4_left':           'ВЛЕВО',\n",
        "                '5_right':          'ВПРАВО',\n",
        "                '6_unclench':       'РАСЖАТЬ',\n",
        "                '7_claw':           'КЛЕШНЮ',\n",
        "                '8_squeeze':        'СЖАТЬ',\n",
        "                '9_noise':          'ШУМ'\n",
        "                }\n",
        "\n",
        "classe = [\n",
        "          'РОБОТ',\n",
        "          'СТОЙ',\n",
        "          'ВПЕРЕД',\n",
        "          'НАЗАД',\n",
        "          'ВЛЕВО',\n",
        "          'ВПРАВО',\n",
        "          'РАСЖАТЬ',\n",
        "          'КЛЕШНЮ',\n",
        "          'СЖАТЬ',\n",
        "          'ШУМ'\n",
        "]"
      ],
      "metadata": {
        "id": "4v8sHeRM9wXc"
      },
      "execution_count": null,
      "outputs": []
    },
    {
      "cell_type": "code",
      "source": [
        "for i, class_name in enumerate(list_command):\n",
        "  key = class_name  # ключ - это значение из перебора\n",
        "  value = list_command[class_name]  # значение - это значение из словаря\n",
        "  print(f'{i} {key} {value}')"
      ],
      "metadata": {
        "id": "TgnPUSHTCT8A"
      },
      "execution_count": null,
      "outputs": []
    },
    {
      "cell_type": "code",
      "source": [
        "device = torch.device('cpu')\n",
        "torch.set_num_threads(4)\n",
        "local_file = 'model.pt'\n",
        "speakers = ['aidar', 'baya', 'kseniya', 'xenia', 'eugene']\n",
        "\n",
        "sample_rate = 24000  # 8000, 24000, 48000\n",
        "n_files = 5   # Сколько файлов надо сгенерировать\n",
        "parent_folder = '/content/data_train_robot'\n",
        "put_accent = True\n",
        "put_yo = True\n",
        "\n",
        "language = 'ru'\n",
        "model_id = 'v4_ru'\n",
        "\n",
        "model, example_text = torch.hub.load(repo_or_dir = 'snakers4/silero-models',\n",
        "                                     model = 'silero_tts',\n",
        "                                     language = language,\n",
        "                                     speaker = model_id)"
      ],
      "metadata": {
        "id": "Q2EGVqQ1O8h4"
      },
      "execution_count": null,
      "outputs": []
    },
    {
      "cell_type": "code",
      "source": [
        "model.speakers"
      ],
      "metadata": {
        "id": "rjP1V6GKO6Xp"
      },
      "execution_count": null,
      "outputs": []
    },
    {
      "cell_type": "code",
      "source": [
        "# Просмотр доступных свойств и методов объекта model\n",
        "p = [print(com) for com in dir(model)]"
      ],
      "metadata": {
        "id": "47siZ_D-gZ3U"
      },
      "execution_count": null,
      "outputs": []
    },
    {
      "cell_type": "code",
      "source": [
        "help(model.apply_tts)"
      ],
      "metadata": {
        "id": "EuE4M3VZhQR0"
      },
      "execution_count": null,
      "outputs": []
    },
    {
      "cell_type": "code",
      "source": [
        "def get_format_text(write_text, i):\n",
        "    format_texts = [\n",
        "               f'<speak><p>{write_text}</p></speak>',                                                 # Нормально\n",
        "               f'<speak><p><prosody rate=\"x-slow\">{write_text}</prosody></p></speak>',                # Медленно\n",
        "               f'<speak><p><prosody rate=\"fast\">{write_text}</prosody></p></speak>',                  # Довольно быстро\n",
        "               f'<speak><p><prosody pitch=\"x-low\">{write_text}</prosody></p></speak>',                # Тоном ниже\n",
        "               f'<speak><p><prosody pitch=\"x-high\">{write_text}</prosody></p></speak>',               # Тоном выше\n",
        "\n",
        "               f'<speak><p><prosody rate=\"x-slow\" pitch=\"x-low\">{write_text}</prosody></p></speak>',  # Тоном ниже Медленно\n",
        "               f'<speak><p><prosody rate=\"fast\" pitch=\"x-high\">{write_text}</prosody></p></speak>',   # Тоном выше Довольно быстро\n",
        "               f'<speak><p><prosody rate=\"fast\" pitch=\"x-low\">{write_text}</prosody></p></speak>',    # Тоном ниже Довольно быстро\n",
        "               f'<speak><p><prosody rate=\"x-slow\" pitch=\"x-high\">{write_text}</prosody></p></speak>', # Тоном выше Медленно\n",
        "\n",
        "               f'<speak><p><break time=\"2000ms\"/>{write_text}<break time=\"2000ms\"/></p></speak>'      # Задерка перед и после 2 секунды\n",
        "              ]\n",
        "    return format_texts[i]\n",
        "\n",
        "# Фиксация времени старта формирования выборки\n",
        "curr_time = time.time()\n",
        "\n",
        "# Проходим по списку команд\n",
        "for i, class_name in tqdm(enumerate(list_command), total = len(list_command)):\n",
        "    key = class_name  # ключ - это значение из перебора\n",
        "    value = list_command[class_name]  # значение - это значение из словаря\n",
        "    path_folder_class = os.path.join(parent_folder, key)\n",
        "\n",
        "    # Проверяем, существует ли директория, и создаем её, если она не существует\n",
        "    if not os.path.exists(path_folder_class):\n",
        "        os.makedirs(path_folder_class)\n",
        "\n",
        "    # Формируем голосовые команды с голосом случайного спикера\n",
        "    k = 0\n",
        "    for j in tqdm(range(len(speakers))):\n",
        "        speaker = speakers[j]\n",
        "        for d in range(10):\n",
        "            ssml_text = get_format_text(value, d)\n",
        "            audio = model.apply_tts(ssml_text = ssml_text,\n",
        "                        speaker = speaker,\n",
        "                        sample_rate = sample_rate,\n",
        "                        put_accent = put_accent,\n",
        "                        put_yo = put_yo)\n",
        "\n",
        "            path_file_class = os.path.join(path_folder_class, f'{k}.wav')\n",
        "\n",
        "            # Сохраните аудио в файл\n",
        "            # Преобразование тензора в аудиофайл и сохранение\n",
        "            sf.write(path_file_class, audio, sample_rate)  # sample_rate - частота дискретизации\n",
        "            k += 1\n",
        "    # Вывод информации о готовности обработки датасета\n",
        "    print(f'Класс {key} готов -> {round(time.time() - curr_time)} c')\n",
        "    curr_time = time.time()"
      ],
      "metadata": {
        "id": "75ly_aqG-prO"
      },
      "execution_count": null,
      "outputs": []
    },
    {
      "cell_type": "code",
      "source": [
        "# Имя архива, в который будут сохранены файлы\n",
        "zip_filename = 'data_train_robot.zip'\n",
        "\n",
        "# Открываем архив для записи\n",
        "with zipfile.ZipFile(zip_filename, 'w', zipfile.ZIP_DEFLATED) as zipf:\n",
        "    # Рекурсивно перебираем все файлы и подпапки в указанной папке\n",
        "    for root, dirs, files in os.walk(parent_folder):\n",
        "        for file in files:\n",
        "            # Полный путь к файлу\n",
        "            file_path = os.path.join(root, file)\n",
        "            # Относительный путь к файлу относительно parent_folder\n",
        "            relative_path = os.path.relpath(file_path, parent_folder)\n",
        "            # Добавляем файл в архив с сохранением структуры папок\n",
        "            zipf.write(file_path, relative_path)\n",
        "\n",
        "print(f'Архив \"{zip_filename}\" создан успешно.')"
      ],
      "metadata": {
        "id": "s3kP2w6nGWSp"
      },
      "execution_count": null,
      "outputs": []
    },
    {
      "cell_type": "markdown",
      "source": [
        "# Генерим случайные данные для теста"
      ],
      "metadata": {
        "id": "BSz5gwTHrsd2"
      }
    },
    {
      "cell_type": "code",
      "source": [
        "list_command_genarated = [\n",
        "    'робот   стой',\n",
        "    'робот   вперед',\n",
        "    'робот   влево',\n",
        "    'робот   вправо',\n",
        "    'робот   расжать клешню',\n",
        "    'робот   сжать клешню',\n",
        "    'робот   двигаться вперед',\n",
        "    'робот   двигаться назад',\n",
        "    'робот   двигаться вправо',\n",
        "    'робот   двигаться влево' ]\n"
      ],
      "metadata": {
        "id": "8vubdAhtrrW-"
      },
      "execution_count": null,
      "outputs": []
    },
    {
      "cell_type": "markdown",
      "source": [
        "Для генерации случайного текста воспользовался ChatGPT 3.5 и вот - романтическое:\n",
        "\n",
        "\n",
        "Вот двадцать различных кусочков текста на разные темы на русском языке, каждый не более чем из 200 слов:\n",
        "\n",
        "1. Мир вокруг нас так многообразен. От красоты закатов до бескрайних лесов, природа впечатляет своим разнообразием.\n",
        "\n",
        "2. В мире искусства каждый может найти нечто особенное. Картины, скульптуры, музыка — они способны вдохновлять и трогать душу.\n",
        "\n",
        "3. Завтрак с круассанами и кофе в Париже - мечта многих. Город влюбленных притягивает своей романтикой.\n",
        "\n",
        "4. Научные открытия всегда волновали человечество. С каждым днем наука открывает перед нами новые горизонты.\n",
        "\n",
        "5. Зимние сказки с детьми на лыжах, снежные баталии и катание на санках - зима наполняет радостью и весельем.\n",
        "\n",
        "6. Вдохновение приходит внезапно. Стихи, мелодии, идеи могут родиться в самый неожиданный момент.\n",
        "\n",
        "7. Путешествия расширяют наше видение мира. Новые культуры, вкусы и запахи всегда оставляют впечатление.\n",
        "\n",
        "8. Семейные вечера с настольными играми - это отличный способ провести время вместе и укрепить связи.\n",
        "\n",
        "9. Океан глубок и загадочен. Его воды скрывают множество тайн и красот.\n",
        "\n",
        "10. Краски осени, когда деревья окрашиваются в золото и багрянец, создают неповторимую атмосферу.\n",
        "\n",
        "11. Друзья всегда рядом, даже если они находятся далеко. Они дарят поддержку и понимание.\n",
        "\n",
        "12. Вкусный ужин в хорошей компании - это искусство. Гурманы знают, что это значит.\n",
        "\n",
        "13. Улыбка ребенка - самое драгоценное сокровище. Родительская любовь непередаваема словами.\n",
        "\n",
        "14. Любовь к книгам - это путешествие в другие миры, встреча с интересными персонажами и умные размышления.\n",
        "\n",
        "15. Смотреть на звезды ночью и мечтать о бескрайних космических просторах - это вечная тайна вселенной.\n",
        "\n",
        "16. Моменты тишины и умиротворения важны для души. Они позволяют нам находить в себе силы.\n",
        "\n",
        "17. Городской пейзаж с высоты птичьего полета всегда впечатляет своей красотой и динамикой.\n",
        "\n",
        "18. Встречи с давними друзьями наполняют наши дни радостью и воспоминаниями.\n",
        "\n",
        "19. Загадки и головоломки тренируют ум и помогают развивать аналитическое мышление.\n",
        "\n",
        "20. Закаты на море создают неповторимую атмосферу романтики и спокойствия.\n",
        "\n",
        "Надеюсь, что эти кусочки текста вдохновят вас на размышления и воображение.\n",
        "\n",
        "Текст не слишком длинный - пока так."
      ],
      "metadata": {
        "id": "p_-ATcN-uIr6"
      }
    },
    {
      "cell_type": "code",
      "source": [
        "text_test = [\n",
        "f'Мир вокруг нас так многообразен. От красоты закатов  {list_command_genarated[6]} до бескрайних лесов, природа впечатляет своим разнообразием',\n",
        "f'В мире искусства каждый может найти нечто особенное. Картины,  {list_command_genarated[7]} скульптуры, музыка — они способны вдохновлять и трогать душу',\n",
        "f'Завтрак с круассанами и кофе в  {list_command_genarated[4]} Париже - мечта многих. Город влюбленных притягивает своей романтикой',\n",
        "f'Научные открытия всегда волновали человечество.  {list_command_genarated[2]} С каждым днем наука открывает перед нами новые горизонты',\n",
        "f'Зимние сказки с детьми на лыжах,  {list_command_genarated[7]} снежные баталии и катание на санках - зима наполняет радостью и весельем',\n",
        "f'Вдохновение приходит внезапно. Стихи,  {list_command_genarated[6]} мелодии, идеи могут родиться в самый неожиданный момент',\n",
        "f'Путешествия расширяют наше видение мира. Новые культуры,  {list_command_genarated[8]} вкусы и запахи всегда оставляют впечатление',\n",
        "f'Семейные вечера с  {list_command_genarated[5]} настольными играми - это отличный способ провести время вместе и укрепить связи',\n",
        "f'Океан глубок и загадочен.  {list_command_genarated[3]} Его воды скрывают множество тайн и красот',\n",
        "f'Краски осени, когда деревья окрашиваются в {list_command_genarated[9]}  золото и багрянец, создают неповторимую атмосферу',\n",
        "f'Друзья всегда рядом, даже если они находятся далеко. Они дарят поддержку и понимание',\n",
        "f'Вкусный ужин в хорошей  {list_command_genarated[1]} компании - это искусство. Гурманы знают, что это значит',\n",
        "f'Улыбка ребенка - самое драгоценное сокровище.  {list_command_genarated[6]} Родительская любовь непередаваема словами',\n",
        "f'Любовь к книгам - это  {list_command_genarated[2]} путешествие в другие миры, встреча с интересными персонажами и умные размышления',\n",
        "f'Смотреть на звезды ночью и мечтать о бескрайних космических {list_command_genarated[0]}  просторах - это вечная тайна вселенной',\n",
        "f'Моменты тишины и умиротворения {list_command_genarated[3]}  важны для души. Они позволяют нам находить в себе силы',\n",
        "f'Городской пейзаж с высоты птичьего полета всегда впечатляет своей красотой {list_command_genarated[4]}  и динамикой',\n",
        "f'Встречи с давними  {list_command_genarated[1]} друзьями наполняют наши дни радостью и воспоминаниями',\n",
        "f'Загадки и головоломки тренируют ум и помогают развивать {list_command_genarated[8]}  аналитическое мышление',\n",
        "f'Закаты на море создают  {list_command_genarated[5]} неповторимую атмосферу романтики и спокойствия']"
      ],
      "metadata": {
        "id": "kiAizuxpuX7J"
      },
      "execution_count": null,
      "outputs": []
    },
    {
      "cell_type": "code",
      "source": [
        "p = [print(text) for text in text_test]"
      ],
      "metadata": {
        "id": "COGwucvyxFR-"
      },
      "execution_count": null,
      "outputs": []
    },
    {
      "cell_type": "code",
      "source": [
        "device = torch.device('cpu')\n",
        "torch.set_num_threads(4)\n",
        "local_file = 'model.pt'\n",
        "speaker = 'random' # 'aidar', 'baya', 'kseniya', 'xenia', 'random'\n",
        "sample_rate = 24000  # 8000, 24000, 48000\n",
        "n_files = 50   # Сколько файлов надо сгенерировать\n",
        "parent_folder = '/content/data_test_robot'\n",
        "put_accent = True\n",
        "put_yo = True\n",
        "\n",
        "language = 'ru'\n",
        "model_id = 'v4_ru'\n",
        "\n",
        "model, example_text = torch.hub.load(repo_or_dir = 'snakers4/silero-models',\n",
        "                                     model = 'silero_tts',\n",
        "                                     language = language,\n",
        "                                     speaker = model_id)\n",
        "\n",
        "# Проходим по списку команд\n",
        "for i in tqdm(range(len(text_test))):\n",
        "    example_text = text_test[i]\n",
        "\n",
        "    # Проверяем, существует ли директория, и создаем её, если она не существует\n",
        "    if not os.path.exists(parent_folder):\n",
        "        os.makedirs(parent_folder)\n",
        "\n",
        "    audio = model.apply_tts(text = example_text,\n",
        "                        speaker = speaker,\n",
        "                        sample_rate = sample_rate,\n",
        "                        put_accent = put_accent,\n",
        "                        put_yo = put_yo)\n",
        "\n",
        "    path_file_class = os.path.join(parent_folder, f'{i}.wav')\n",
        "\n",
        "    # Сохраните аудио в файл\n",
        "    # Преобразование тензора в аудиофайл и сохранение\n",
        "    sf.write(path_file_class, audio, sample_rate)  # sample_rate - частота дискретизации"
      ],
      "metadata": {
        "id": "PLekBjXexny8"
      },
      "execution_count": null,
      "outputs": []
    },
    {
      "cell_type": "code",
      "source": [
        "# Имя архива, в который будут сохранены файлы\n",
        "zip_filename = 'data_test_robot.zip'\n",
        "\n",
        "# Открываем архив для записи\n",
        "with zipfile.ZipFile(zip_filename, 'w', zipfile.ZIP_DEFLATED) as zipf:\n",
        "    # Рекурсивно перебираем все файлы и подпапки в указанной папке\n",
        "    for root, dirs, files in os.walk(parent_folder):\n",
        "        for file in files:\n",
        "            # Полный путь к файлу\n",
        "            file_path = os.path.join(root, file)\n",
        "            # Относительный путь к файлу относительно parent_folder\n",
        "            relative_path = os.path.relpath(file_path, parent_folder)\n",
        "            # Добавляем файл в архив с сохранением структуры папок\n",
        "            zipf.write(file_path, relative_path)\n",
        "\n",
        "print(f'Архив \"{zip_filename}\" создан успешно.')"
      ],
      "metadata": {
        "id": "tfjvAZJRydCU"
      },
      "execution_count": null,
      "outputs": []
    }
  ]
}