{
 "cells": [
  {
   "cell_type": "code",
   "execution_count": 5,
   "id": "429c987e",
   "metadata": {
    "scrolled": true
   },
   "outputs": [],
   "source": [
    "import json, pyaudio\n",
    "from vosk import Model, KaldiRecognizer\n",
    "\n",
    "#import gdown\n",
    "#import os"
   ]
  },
  {
   "cell_type": "raw",
   "id": "db98b941",
   "metadata": {},
   "source": [
    "Список аудиоустройств - справочно"
   ]
  },
  {
   "cell_type": "code",
   "execution_count": null,
   "id": "60c15452",
   "metadata": {},
   "outputs": [],
   "source": [
    "# Список аудиоустройств ввода в системе - справочно\n",
    "import pyaudio\n",
    "\n",
    "p = pyaudio.PyAudio()\n",
    "info = p.get_host_api_info_by_index(0)\n",
    "numdevices = info.get('deviceCount')\n",
    "print(numdevices)\n",
    "\n",
    "for i in range(0, numdevices):\n",
    "    if p.get_device_info_by_host_api_device_index(0, i).get('maxInputChannels') > 0:\n",
    "        print(\"Input Device id \", i, \" - \", p.get_device_info_by_host_api_device_index(0, i).get('name'))"
   ]
  },
  {
   "cell_type": "code",
   "execution_count": 6,
   "id": "e72b360b",
   "metadata": {},
   "outputs": [],
   "source": [
    "#StopWords = [\"выход\", \"пока\", \"стоп\", \"прервать\"]\n",
    "#StartWords = [\"робот\", \"бот\", \"ученик\"]\n",
    "\n",
    "StopWords = [\"стоп\"]             # Список стоп слов\n",
    "StartWords = [\"робот\", \"бот\"]    # Список начала команды роботу"
   ]
  },
  {
   "cell_type": "markdown",
   "id": "fcc9f479",
   "metadata": {},
   "source": [
    "Созданно на основе youtube - ролика https://www.youtube.com/watch?v=XF2WVUVxAGQ&t=5s\n",
    "Минимальное количество команд, выдает список команд, с которым уже можно работать для кодирования согласно представленного списка. Иногда распознает не совсем хорошо - <робот - робость>. Очевидно связано с особенностями произношения диктора.\n",
    "Можно дополнительно контролировать при помощи другой модели, как предлагает Стукалов Николай, но тогда можем столкнуться с обратной реакцией - будет произнесено слово <робость> в контексте, а система предположит из выхода дополнительной модели, что вероятно это <робот>. Хотя эта вероятность этого достаточно мала, всего не предусмотришь."
   ]
  },
  {
   "cell_type": "code",
   "execution_count": 23,
   "id": "82001639",
   "metadata": {},
   "outputs": [
    {
     "name": "stdout",
     "output_type": "stream",
     "text": [
      "['робот', 'двигайся', 'вперед', 'стоп']\n",
      "['бот', 'ты', 'здесь', 'стоп']\n",
      "['робот', 'двигайся', 'стоп']\n",
      "['робот', 'стой', 'стоп']\n"
     ]
    },
    {
     "data": {
      "text/plain": [
       "[None, None, None, None]"
      ]
     },
     "execution_count": 23,
     "metadata": {},
     "output_type": "execute_result"
    }
   ],
   "source": [
    "def get_list_commands(text, start_words, stop_words):\n",
    "    commands = []  # Инициализируем список для хранения команд\n",
    "    \n",
    "    in_command = False  # Флаг, указывающий, что мы находимся внутри команды\n",
    "    current_command = []  # Список для хранения текущей команды\n",
    "\n",
    "    # Пройдемся по словам в тексте\n",
    "    words = text.split()\n",
    "    for word in words:\n",
    "        # Если слово является стартовым словом\n",
    "        if word in start_words:\n",
    "            in_command = True\n",
    "            current_command = [word]\n",
    "        # Если слово является стоп-словом и мы находимся внутри команды\n",
    "        elif in_command and word in stop_words:\n",
    "            current_command.append(word)\n",
    "            in_command = False\n",
    "            commands.append(current_command)\n",
    "        # Если мы находимся внутри команды\n",
    "        elif in_command:\n",
    "            current_command.append(word)\n",
    "    \n",
    "    # Если не было найдено ни одного стартового слова, вернем пустой список\n",
    "    if in_command:\n",
    "        # Если команда не заканчивается стоп-словом, добавим стоп-слово\n",
    "        current_command.append(stop_words[0])\n",
    "        commands.append(current_command)\n",
    "    \n",
    "    return commands\n",
    "\n",
    "# Пример использования\n",
    "text = \"итак начнем робот двигайся вперед стоп бот ты здесь стоп робот двигайся стоп процесс закончен робот стой\"\n",
    "\n",
    "# Функция возвращает список команд к последовательному выполнению\n",
    "# Команды должны произноситься последовательно без длительных пауз\n",
    "# Если команда началась, а стоп слово не произнесено, то к распознаванию передадим всю строку\n",
    "# от старта команды до окончания строки, добавив стоп слово для логической завершенности команды \n",
    "# и передачи его в дальнейшую обраьотку\n",
    "result = get_list_commands(text, StartWords, StopWords)\n",
    "[print(command) for command in result] # Выведем команды последовательно"
   ]
  },
  {
   "cell_type": "code",
   "execution_count": 25,
   "id": "37c757ee",
   "metadata": {},
   "outputs": [
    {
     "name": "stdout",
     "output_type": "stream",
     "text": [
      "Приготовимся слушать...\n",
      "начнём но команды пока подавать не будем\n",
      "продолжим робость перед стоп бот повернуть направо стоп\n",
      "Распознанные команды\n",
      "['бот', 'повернуть', 'направо', 'стоп']\n",
      "так дальше робот вперёд\n",
      "Распознанные команды\n",
      "['робот', 'вперёд', 'стоп']\n",
      "Прерываемся и идем курить и думу думать...\n"
     ]
    }
   ],
   "source": [
    "# Импортируем необходимые библиотеки\n",
    "model = Model(\"C:\\\\Users\\\\Zver\\\\Robots\\\\vosk-model-small-ru-0.22\")\n",
    "rec = KaldiRecognizer(model, 16000)\n",
    "\n",
    "# Инициализируем библиотеку PyAudio\n",
    "p = pyaudio.PyAudio()\n",
    "\n",
    "# Открываем аудио-стрим для записи звука\n",
    "stream = p.open(format=pyaudio.paInt16, channels=1, rate=16000, input=True, frames_per_buffer=8000)\n",
    "\n",
    "stream.start_stream()\n",
    "\n",
    "# Функция для прослушивания и распознавания речи\n",
    "def listen():\n",
    "    while True:\n",
    "        data = stream.read(4000, exception_on_overflow=False)\n",
    "        if (rec.AcceptWaveform(data)) and (len(data) > 0):\n",
    "            answer = json.loads(rec.Result())\n",
    "            if answer['text']:\n",
    "                yield answer['text']\n",
    "\n",
    "# Основной цикл для обработки распознанных команд\n",
    "for text in listen():    \n",
    "    if text.lower() in StopWords:\n",
    "        # Если распознанное слово находится в списке стоп-слов, завершаем процесс и выводим сообщение\n",
    "        print(\"Прерываемся и идем курить и думу думать...\")\n",
    "        break\n",
    "    elif text.lower() in StartWords:\n",
    "        # Если распознанное слово находится в списке стартовых слов, начинаем обработку\n",
    "        print(\"Приготовимся слушать...\")        \n",
    "    else:\n",
    "        # Если распознанное слово не является ни стартовым, ни стоп-словом, выводим его\n",
    "        print(text)\n",
    "        # Проверяем текст на наличие команд, если они есть, то выводим списки команд\n",
    "        result = get_list_commands(text.lower(), StartWords, StopWords)\n",
    "        if len(result) != 0: \n",
    "            print('Распознанные команды')\n",
    "            [print(command) for command in result]"
   ]
  },
  {
   "cell_type": "code",
   "execution_count": null,
   "id": "3b0c99bc",
   "metadata": {},
   "outputs": [],
   "source": []
  }
 ],
 "metadata": {
  "kernelspec": {
   "display_name": "Python 3 (ipykernel)",
   "language": "python",
   "name": "python3"
  },
  "language_info": {
   "codemirror_mode": {
    "name": "ipython",
    "version": 3
   },
   "file_extension": ".py",
   "mimetype": "text/x-python",
   "name": "python",
   "nbconvert_exporter": "python",
   "pygments_lexer": "ipython3",
   "version": "3.11.5"
  }
 },
 "nbformat": 4,
 "nbformat_minor": 5
}
